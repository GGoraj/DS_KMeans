{
 "cells": [
  {
   "cell_type": "code",
   "execution_count": 1,
   "metadata": {},
   "outputs": [],
   "source": [
    "import pandas as pd\n",
    "import numpy as np\n",
    "# matplotlib.pyplot for data plots\n",
    "import matplotlib.pyplot as plt\n",
    "from sklearn import preprocessing as prep\n",
    "#K-Means\n",
    "import matplotlib.pyplot as plt\n",
    "from sklearn.cluster import KMeans\n",
    "from sklearn import metrics\n",
    "from scipy.spatial.distance import cdist\n",
    "from sklearn.cluster import KMeans"
   ]
  },
  {
   "cell_type": "markdown",
   "metadata": {},
   "source": [
    "## Loading Dataset from file: 'stud-stat-anonymous.csv'"
   ]
  },
  {
   "cell_type": "code",
   "execution_count": 2,
   "metadata": {
    "scrolled": true
   },
   "outputs": [
    {
     "data": {
      "text/html": [
       "<div>\n",
       "<style scoped>\n",
       "    .dataframe tbody tr th:only-of-type {\n",
       "        vertical-align: middle;\n",
       "    }\n",
       "\n",
       "    .dataframe tbody tr th {\n",
       "        vertical-align: top;\n",
       "    }\n",
       "\n",
       "    .dataframe thead th {\n",
       "        text-align: right;\n",
       "    }\n",
       "</style>\n",
       "<table border=\"1\" class=\"dataframe\">\n",
       "  <thead>\n",
       "    <tr style=\"text-align: right;\">\n",
       "      <th></th>\n",
       "      <th>Unnamed: 0</th>\n",
       "      <th>Id</th>\n",
       "      <th>Samlet fravær</th>\n",
       "      <th>Klasse</th>\n",
       "      <th>Fag</th>\n",
       "      <th>Fravær</th>\n",
       "      <th>Fag.1</th>\n",
       "      <th>Fravær.1</th>\n",
       "      <th>Fag.2</th>\n",
       "      <th>Fravær.2</th>\n",
       "      <th>Fag.3</th>\n",
       "      <th>Fravær.3</th>\n",
       "    </tr>\n",
       "  </thead>\n",
       "  <tbody>\n",
       "    <tr>\n",
       "      <th>0</th>\n",
       "      <td>0</td>\n",
       "      <td>214366</td>\n",
       "      <td>100%</td>\n",
       "      <td>Web and Soft Electives</td>\n",
       "      <td>Big Data</td>\n",
       "      <td>100%</td>\n",
       "      <td>NaN</td>\n",
       "      <td>NaN</td>\n",
       "      <td>NaN</td>\n",
       "      <td>NaN</td>\n",
       "      <td>NaN</td>\n",
       "      <td>NaN</td>\n",
       "    </tr>\n",
       "    <tr>\n",
       "      <th>1</th>\n",
       "      <td>1</td>\n",
       "      <td>680092</td>\n",
       "      <td>100%</td>\n",
       "      <td>Web and Soft Electives</td>\n",
       "      <td>Angular</td>\n",
       "      <td>100%</td>\n",
       "      <td>Web Security</td>\n",
       "      <td>100%</td>\n",
       "      <td>NaN</td>\n",
       "      <td>NaN</td>\n",
       "      <td>NaN</td>\n",
       "      <td>NaN</td>\n",
       "    </tr>\n",
       "    <tr>\n",
       "      <th>2</th>\n",
       "      <td>2</td>\n",
       "      <td>906441</td>\n",
       "      <td>100%</td>\n",
       "      <td>Web and Soft Electives</td>\n",
       "      <td>Angular</td>\n",
       "      <td>100%</td>\n",
       "      <td>Web Security</td>\n",
       "      <td>100%</td>\n",
       "      <td>NaN</td>\n",
       "      <td>NaN</td>\n",
       "      <td>NaN</td>\n",
       "      <td>NaN</td>\n",
       "    </tr>\n",
       "    <tr>\n",
       "      <th>3</th>\n",
       "      <td>3</td>\n",
       "      <td>432875</td>\n",
       "      <td>100%</td>\n",
       "      <td>Web and Soft Electives</td>\n",
       "      <td>Angular</td>\n",
       "      <td>100%</td>\n",
       "      <td>Web Security</td>\n",
       "      <td>100%</td>\n",
       "      <td>NaN</td>\n",
       "      <td>NaN</td>\n",
       "      <td>NaN</td>\n",
       "      <td>NaN</td>\n",
       "    </tr>\n",
       "    <tr>\n",
       "      <th>4</th>\n",
       "      <td>4</td>\n",
       "      <td>146518</td>\n",
       "      <td>100%</td>\n",
       "      <td>Web and Soft Electives</td>\n",
       "      <td>Angular</td>\n",
       "      <td>100%</td>\n",
       "      <td>Web Security</td>\n",
       "      <td>100%</td>\n",
       "      <td>NaN</td>\n",
       "      <td>NaN</td>\n",
       "      <td>NaN</td>\n",
       "      <td>NaN</td>\n",
       "    </tr>\n",
       "    <tr>\n",
       "      <th>5</th>\n",
       "      <td>5</td>\n",
       "      <td>864755</td>\n",
       "      <td>100%</td>\n",
       "      <td>Web and Soft Electives</td>\n",
       "      <td>Angular</td>\n",
       "      <td>100%</td>\n",
       "      <td>Web Security</td>\n",
       "      <td>100%</td>\n",
       "      <td>NaN</td>\n",
       "      <td>NaN</td>\n",
       "      <td>NaN</td>\n",
       "      <td>NaN</td>\n",
       "    </tr>\n",
       "    <tr>\n",
       "      <th>6</th>\n",
       "      <td>6</td>\n",
       "      <td>464972</td>\n",
       "      <td>100%</td>\n",
       "      <td>Web and Soft Electives</td>\n",
       "      <td>Angular</td>\n",
       "      <td>100%</td>\n",
       "      <td>Web Security</td>\n",
       "      <td>100%</td>\n",
       "      <td>NaN</td>\n",
       "      <td>NaN</td>\n",
       "      <td>NaN</td>\n",
       "      <td>NaN</td>\n",
       "    </tr>\n",
       "    <tr>\n",
       "      <th>7</th>\n",
       "      <td>7</td>\n",
       "      <td>728877</td>\n",
       "      <td>100%</td>\n",
       "      <td>Web and Soft Electives</td>\n",
       "      <td>Angular</td>\n",
       "      <td>100%</td>\n",
       "      <td>Web Security</td>\n",
       "      <td>100%</td>\n",
       "      <td>NaN</td>\n",
       "      <td>NaN</td>\n",
       "      <td>NaN</td>\n",
       "      <td>NaN</td>\n",
       "    </tr>\n",
       "    <tr>\n",
       "      <th>8</th>\n",
       "      <td>8</td>\n",
       "      <td>419492</td>\n",
       "      <td>100%</td>\n",
       "      <td>Web and Soft Electives</td>\n",
       "      <td>Angular</td>\n",
       "      <td>100%</td>\n",
       "      <td>Web Security</td>\n",
       "      <td>100%</td>\n",
       "      <td>NaN</td>\n",
       "      <td>NaN</td>\n",
       "      <td>NaN</td>\n",
       "      <td>NaN</td>\n",
       "    </tr>\n",
       "    <tr>\n",
       "      <th>9</th>\n",
       "      <td>9</td>\n",
       "      <td>205702</td>\n",
       "      <td>100%</td>\n",
       "      <td>Web and Soft Electives</td>\n",
       "      <td>Angular</td>\n",
       "      <td>100%</td>\n",
       "      <td>Web Security</td>\n",
       "      <td>100%</td>\n",
       "      <td>NaN</td>\n",
       "      <td>NaN</td>\n",
       "      <td>NaN</td>\n",
       "      <td>NaN</td>\n",
       "    </tr>\n",
       "  </tbody>\n",
       "</table>\n",
       "</div>"
      ],
      "text/plain": [
       "   Unnamed: 0      Id Samlet fravær                  Klasse       Fag Fravær  \\\n",
       "0           0  214366          100%  Web and Soft Electives  Big Data   100%   \n",
       "1           1  680092          100%  Web and Soft Electives   Angular   100%   \n",
       "2           2  906441          100%  Web and Soft Electives   Angular   100%   \n",
       "3           3  432875          100%  Web and Soft Electives   Angular   100%   \n",
       "4           4  146518          100%  Web and Soft Electives   Angular   100%   \n",
       "5           5  864755          100%  Web and Soft Electives   Angular   100%   \n",
       "6           6  464972          100%  Web and Soft Electives   Angular   100%   \n",
       "7           7  728877          100%  Web and Soft Electives   Angular   100%   \n",
       "8           8  419492          100%  Web and Soft Electives   Angular   100%   \n",
       "9           9  205702          100%  Web and Soft Electives   Angular   100%   \n",
       "\n",
       "          Fag.1 Fravær.1 Fag.2 Fravær.2 Fag.3 Fravær.3  \n",
       "0           NaN      NaN   NaN      NaN   NaN      NaN  \n",
       "1  Web Security     100%   NaN      NaN   NaN      NaN  \n",
       "2  Web Security     100%   NaN      NaN   NaN      NaN  \n",
       "3  Web Security     100%   NaN      NaN   NaN      NaN  \n",
       "4  Web Security     100%   NaN      NaN   NaN      NaN  \n",
       "5  Web Security     100%   NaN      NaN   NaN      NaN  \n",
       "6  Web Security     100%   NaN      NaN   NaN      NaN  \n",
       "7  Web Security     100%   NaN      NaN   NaN      NaN  \n",
       "8  Web Security     100%   NaN      NaN   NaN      NaN  \n",
       "9  Web Security     100%   NaN      NaN   NaN      NaN  "
      ]
     },
     "execution_count": 2,
     "metadata": {},
     "output_type": "execute_result"
    }
   ],
   "source": [
    "# make an assert with collumn names \n",
    "# np.all - look at the collumns etc.\n",
    "# if structure is changed, rise an exception\n",
    "\n",
    "\n",
    "# Load input data\n",
    "#X = np.loadtxt('../Data/sales.csv', delimiter=',', skiprows=1,\n",
    "#usecols=(1,2))\n",
    "\n",
    "\n",
    "data=pd.read_csv('stud-stat-anonymous.csv')\n",
    "\n",
    "#data= data.drop(\"Del\", axis=1)\n",
    "df = pd.DataFrame(data)\n",
    "df.head(10)\n"
   ]
  },
  {
   "cell_type": "markdown",
   "metadata": {},
   "source": [
    "# Data Preprocessing"
   ]
  },
  {
   "cell_type": "markdown",
   "metadata": {},
   "source": [
    "## Creating array of expected column names"
   ]
  },
  {
   "cell_type": "code",
   "execution_count": 3,
   "metadata": {},
   "outputs": [],
   "source": [
    "exp_columns = [\"Unnamed: 0\", \"Id\", \"Samlet fravær\", \"Klasse\",\n",
    "               \"Fag\",\"Fravær\", \"Fag.1\", \"Fravær.1\", \"Fag.2\", \"Fravær.2\", \"Fag.3\", \"Fravær.3\"]\n",
    "\n",
    "#creating array of actual column names\n",
    "act_columns = list(df)\n",
    "\n",
    "#comparing expected and actual names\n",
    "#compare_value should get value false, if expected and actual columns are the same\n",
    "compare_value = bool((set(act_columns) - set(exp_columns)))\n",
    "assert (compare_value==False), \"Column names of uploaded dataset differ from expected\""
   ]
  },
  {
   "cell_type": "markdown",
   "metadata": {},
   "source": [
    "## Safely droping column \"Unnamed: 0\""
   ]
  },
  {
   "cell_type": "code",
   "execution_count": 4,
   "metadata": {},
   "outputs": [],
   "source": [
    "columns_df = list(df)\n",
    "if any(\"Unnamed: 0\" in columns_df for s in columns_df):\n",
    "    df = df.drop(\"Unnamed: 0\", axis=1)\n",
    "df.head()\n",
    "\n",
    "#renaming column values - making them more accesible for various functions\n",
    "df.rename(columns={'Samlet fravær':'Samlet_fravaer',\n",
    "                   'Fag.1':'Fag_1',\n",
    "                   'Fravær':'Fravaer',\n",
    "                   'Fravær.1':'Fravaer_1',\n",
    "                   'Fag.2':'Fag_2',\n",
    "                   'Fravær.2':\"Fravaer_2\",\n",
    "                   'Fag.3':'Fag_3',\n",
    "                   'Fravær.3':'Fravaer_3'}, inplace=True)\n"
   ]
  },
  {
   "cell_type": "markdown",
   "metadata": {},
   "source": [
    "## Stripping all 'Fravaer' columns from '%'"
   ]
  },
  {
   "cell_type": "code",
   "execution_count": 5,
   "metadata": {},
   "outputs": [
    {
     "data": {
      "text/plain": [
       "Id                 int64\n",
       "Samlet_fravaer    object\n",
       "Klasse            object\n",
       "Fag               object\n",
       "Fravaer           object\n",
       "Fag_1             object\n",
       "Fravaer_1         object\n",
       "Fag_2             object\n",
       "Fravaer_2         object\n",
       "Fag_3             object\n",
       "Fravaer_3         object\n",
       "dtype: object"
      ]
     },
     "execution_count": 5,
     "metadata": {},
     "output_type": "execute_result"
    }
   ],
   "source": [
    "df['Fravaer'] = df['Fravaer'].str.replace(\"%\",\"\")\n",
    "df['Samlet_fravaer'] = df['Samlet_fravaer'].str.replace(\"%\",\"\")\n",
    "df['Fravaer_1'] = df['Fravaer_1'].str.replace(\"%\",\"\")\n",
    "df['Fravaer_2'] = df['Fravaer_2'].str.replace(\"%\",\"\")\n",
    "df['Fravaer_3'] = df['Fravaer_3'].str.replace(\"%\",\"\")\n",
    "df.dtypes"
   ]
  },
  {
   "cell_type": "markdown",
   "metadata": {},
   "source": [
    "## Transforming Danish fonts"
   ]
  },
  {
   "cell_type": "code",
   "execution_count": 6,
   "metadata": {
    "scrolled": false
   },
   "outputs": [
    {
     "data": {
      "text/plain": [
       "Id                  int64\n",
       "Samlet_fravaer    float64\n",
       "Klasse             object\n",
       "Fag                object\n",
       "Fravaer           float64\n",
       "Fag_1              object\n",
       "Fravaer_1         float64\n",
       "Fag_2              object\n",
       "Fravaer_2         float64\n",
       "Fag_3              object\n",
       "Fravaer_3         float64\n",
       "dtype: object"
      ]
     },
     "execution_count": 6,
     "metadata": {},
     "output_type": "execute_result"
    }
   ],
   "source": [
    "df['Fravaer'] = df['Samlet_fravaer'].astype('float')\n",
    "df['Samlet_fravaer'] = df['Samlet_fravaer'].astype('float')\n",
    "df['Fravaer_1'] = df['Fravaer_1'].astype('float')\n",
    "df['Fravaer_2'] = df['Fravaer_2'].astype('float')\n",
    "df['Fravaer_3'] = df['Fravaer_3'].astype('float')\n",
    "df.dtypes"
   ]
  },
  {
   "cell_type": "markdown",
   "metadata": {},
   "source": [
    "# Statistics"
   ]
  },
  {
   "cell_type": "code",
   "execution_count": 7,
   "metadata": {},
   "outputs": [
    {
     "data": {
      "text/html": [
       "<div>\n",
       "<style scoped>\n",
       "    .dataframe tbody tr th:only-of-type {\n",
       "        vertical-align: middle;\n",
       "    }\n",
       "\n",
       "    .dataframe tbody tr th {\n",
       "        vertical-align: top;\n",
       "    }\n",
       "\n",
       "    .dataframe thead th {\n",
       "        text-align: right;\n",
       "    }\n",
       "</style>\n",
       "<table border=\"1\" class=\"dataframe\">\n",
       "  <thead>\n",
       "    <tr style=\"text-align: right;\">\n",
       "      <th></th>\n",
       "      <th>Id</th>\n",
       "      <th>Samlet_fravaer</th>\n",
       "      <th>Klasse</th>\n",
       "      <th>Fag</th>\n",
       "      <th>Fravaer</th>\n",
       "      <th>Fag_1</th>\n",
       "      <th>Fravaer_1</th>\n",
       "      <th>Fag_2</th>\n",
       "      <th>Fravaer_2</th>\n",
       "      <th>Fag_3</th>\n",
       "      <th>Fravaer_3</th>\n",
       "    </tr>\n",
       "  </thead>\n",
       "  <tbody>\n",
       "    <tr>\n",
       "      <th>0</th>\n",
       "      <td>214366</td>\n",
       "      <td>100.0</td>\n",
       "      <td>Web and Soft Electives</td>\n",
       "      <td>Big Data</td>\n",
       "      <td>100.0</td>\n",
       "      <td>NaN</td>\n",
       "      <td>NaN</td>\n",
       "      <td>NaN</td>\n",
       "      <td>NaN</td>\n",
       "      <td>NaN</td>\n",
       "      <td>NaN</td>\n",
       "    </tr>\n",
       "    <tr>\n",
       "      <th>1</th>\n",
       "      <td>680092</td>\n",
       "      <td>100.0</td>\n",
       "      <td>Web and Soft Electives</td>\n",
       "      <td>Angular</td>\n",
       "      <td>100.0</td>\n",
       "      <td>Web Security</td>\n",
       "      <td>100.0</td>\n",
       "      <td>NaN</td>\n",
       "      <td>NaN</td>\n",
       "      <td>NaN</td>\n",
       "      <td>NaN</td>\n",
       "    </tr>\n",
       "    <tr>\n",
       "      <th>2</th>\n",
       "      <td>906441</td>\n",
       "      <td>100.0</td>\n",
       "      <td>Web and Soft Electives</td>\n",
       "      <td>Angular</td>\n",
       "      <td>100.0</td>\n",
       "      <td>Web Security</td>\n",
       "      <td>100.0</td>\n",
       "      <td>NaN</td>\n",
       "      <td>NaN</td>\n",
       "      <td>NaN</td>\n",
       "      <td>NaN</td>\n",
       "    </tr>\n",
       "  </tbody>\n",
       "</table>\n",
       "</div>"
      ],
      "text/plain": [
       "       Id  Samlet_fravaer                  Klasse       Fag  Fravaer  \\\n",
       "0  214366           100.0  Web and Soft Electives  Big Data    100.0   \n",
       "1  680092           100.0  Web and Soft Electives   Angular    100.0   \n",
       "2  906441           100.0  Web and Soft Electives   Angular    100.0   \n",
       "\n",
       "          Fag_1  Fravaer_1 Fag_2  Fravaer_2 Fag_3  Fravaer_3  \n",
       "0           NaN        NaN   NaN        NaN   NaN        NaN  \n",
       "1  Web Security      100.0   NaN        NaN   NaN        NaN  \n",
       "2  Web Security      100.0   NaN        NaN   NaN        NaN  "
      ]
     },
     "execution_count": 7,
     "metadata": {},
     "output_type": "execute_result"
    }
   ],
   "source": [
    "df.head(3)"
   ]
  },
  {
   "cell_type": "markdown",
   "metadata": {},
   "source": [
    "### Students Count"
   ]
  },
  {
   "cell_type": "code",
   "execution_count": 8,
   "metadata": {},
   "outputs": [
    {
     "data": {
      "text/plain": [
       "224"
      ]
     },
     "execution_count": 8,
     "metadata": {},
     "output_type": "execute_result"
    }
   ],
   "source": [
    "# All students in dataset\n",
    "df['Id'].count()"
   ]
  },
  {
   "cell_type": "code",
   "execution_count": 9,
   "metadata": {
    "scrolled": false
   },
   "outputs": [
    {
     "data": {
      "text/plain": [
       "Web and Soft Electives    77\n",
       "SD18i                     37\n",
       "SD19w1                    32\n",
       "ITS18a                    29\n",
       "Web19w1                   29\n",
       "ITS19w1                   20\n",
       "Name: Klasse, dtype: int64"
      ]
     },
     "execution_count": 9,
     "metadata": {},
     "output_type": "execute_result"
    }
   ],
   "source": [
    "# How many different Courses ('Klasse') is there\n",
    "# How many students each consists consists\n",
    "\n",
    "df['Klasse'].value_counts()"
   ]
  },
  {
   "cell_type": "code",
   "execution_count": 10,
   "metadata": {},
   "outputs": [
    {
     "name": "stdout",
     "output_type": "stream",
     "text": [
      "Web Security              48\n",
      "System Integration        36\n",
      "Test                      33\n",
      "Interface Design          29\n",
      "IT Governance 2           29\n",
      "Databases                 27\n",
      "Net. and Com. security    20\n",
      "Quantum Computing          1\n",
      "Name: Fag_1, dtype: int64\n"
     ]
    }
   ],
   "source": [
    "f = df['Fag_1'].value_counts()\n",
    "fag = f.index.tolist()\n",
    "print(f)"
   ]
  },
  {
   "cell_type": "code",
   "execution_count": 11,
   "metadata": {},
   "outputs": [
    {
     "name": "stdout",
     "output_type": "stream",
     "text": [
      "Data Science                33\n",
      "Databases                   29\n",
      "Security Engineering        29\n",
      "Test                        27\n",
      "System Security             20\n",
      "Software Design Patterns    13\n",
      "Big Data                     9\n",
      "Quantum Computing            6\n",
      "Web Security                 3\n",
      "Name: Fag_2, dtype: int64\n"
     ]
    }
   ],
   "source": [
    "f = df['Fag_2'].value_counts()\n",
    "fag = f.index.tolist()\n",
    "print(f)"
   ]
  },
  {
   "cell_type": "code",
   "execution_count": 12,
   "metadata": {},
   "outputs": [
    {
     "name": "stdout",
     "output_type": "stream",
     "text": [
      "                        195\n",
      "Reverse Eng. Malware     29\n",
      "Name: Fag_3, dtype: int64\n"
     ]
    }
   ],
   "source": [
    "df['Fag_3'].fillna( \"\",inplace=True)\n",
    "f = df['Fag_3'].value_counts()\n",
    "fag = f.index.tolist()\n",
    "print(f)"
   ]
  },
  {
   "cell_type": "code",
   "execution_count": 13,
   "metadata": {
    "scrolled": true
   },
   "outputs": [
    {
     "name": "stdout",
     "output_type": "stream",
     "text": [
      "Angular                        48\n",
      "DLS                            37\n",
      "Databases                      32\n",
      "Web Development                29\n",
      "Security for mobile devices    29\n",
      "Intro til IT Sikkerhed         20\n",
      "Quantum Computing              11\n",
      "Software Design Patterns        9\n",
      "Big Data                        6\n",
      "Web Security                    2\n",
      "Data Science                    1\n",
      "Name: Fag, dtype: int64\n"
     ]
    }
   ],
   "source": [
    "# students asigned to\n",
    "f = df['Fag'].value_counts()\n",
    "fag = f.index.tolist()\n",
    "print(f)"
   ]
  },
  {
   "cell_type": "code",
   "execution_count": 14,
   "metadata": {},
   "outputs": [],
   "source": [
    "dictionary = {fag[0]: f[0], fag[1]: f[1], fag[2] : f[2],\n",
    "              fag[3] : f[3], fag[4] : f[4], fag[5] : f[5], fag[6] : f[6],\n",
    "             fag[7]:f[7], fag[8]:f[8], fag[9]:f[9], fag[10]:f[10]}"
   ]
  },
  {
   "cell_type": "code",
   "execution_count": 57,
   "metadata": {},
   "outputs": [
    {
     "data": {
      "image/png": "[encoded data removed]",
      "text/plain": [
       "<Figure size 432x288 with 1 Axes>"
      ]
     },
     "metadata": {
      "needs_background": "light"
     },
     "output_type": "display_data"
    }
   ],
   "source": [
    "h_hist = plt.bar(list(dictionary.keys()), dictionary.values(), color='b')\n",
    "plt.title('Students per ''Fag''', pad=10)\n",
    "plt.ylabel('No. of students', labelpad=20, fontsize=12)\n",
    "plt.xticks(rotation='vertical')\n",
    "#plt.yticks(range(15))\n",
    "for i, v in enumerate(f):\n",
    "    plt.text(v + 3, i + .25, str(v), color='blue', fontweight='bold')\n",
    "    \n",
    "plt.show()"
   ]
  },
  {
   "cell_type": "markdown",
   "metadata": {},
   "source": [
    "### Absence"
   ]
  },
  {
   "cell_type": "markdown",
   "metadata": {},
   "source": [
    "#### Absence per 'Klasse'"
   ]
  },
  {
   "cell_type": "code",
   "execution_count": 16,
   "metadata": {},
   "outputs": [
    {
     "data": {
      "text/plain": [
       "36"
      ]
     },
     "execution_count": 16,
     "metadata": {},
     "output_type": "execute_result"
    }
   ],
   "source": [
    "# How many students have absence above 75%\n",
    "(df['Samlet_fravaer'] >= 75).sum()"
   ]
  },
  {
   "cell_type": "code",
   "execution_count": 17,
   "metadata": {},
   "outputs": [
    {
     "data": {
      "text/plain": [
       "23"
      ]
     },
     "execution_count": 17,
     "metadata": {},
     "output_type": "execute_result"
    }
   ],
   "source": [
    "# How many students have absence 100%\n",
    "(df['Samlet_fravaer'] == 100).sum()"
   ]
  },
  {
   "cell_type": "code",
   "execution_count": 18,
   "metadata": {},
   "outputs": [],
   "source": [
    "# Web and Soft Electives\n",
    "a = ((df['Samlet_fravaer'] >= 75) & (df['Klasse'] == 'Web and Soft Electives')).sum()\n",
    "\n",
    "# SD18i\n",
    "b = ((df['Samlet_fravaer'] >= 75) & (df['Klasse'] == 'SD18i')).sum()\n",
    "\n",
    "# SD19w1\n",
    "c = ((df['Samlet_fravaer'] >= 75) & (df['Klasse'] == 'SD19w1')).sum()\n",
    "\n",
    "# ITS18a\n",
    "d = ((df['Samlet_fravaer'] >= 75) & (df['Klasse'] == 'ITS18a')).sum()\n",
    "\n",
    "# Web19w1\n",
    "e = ((df['Samlet_fravaer'] >= 75) & (df['Klasse'] == 'Web19w1')).sum()\n",
    "\n",
    "# ITS19w1\n",
    "f = ((df['Samlet_fravaer'] >= 75) & (df['Klasse'] == 'SD19w1')).sum()\n"
   ]
  },
  {
   "cell_type": "code",
   "execution_count": 19,
   "metadata": {},
   "outputs": [
    {
     "data": {
      "image/png": "[encoded data removed]",
      "text/plain": [
       "<Figure size 432x288 with 1 Axes>"
      ]
     },
     "metadata": {
      "needs_background": "light"
     },
     "output_type": "display_data"
    }
   ],
   "source": [
    "dictionary = {'Web&Soft':a, 'SD18i':b, 'SD19w1':c, 'ITS18a':d, 'Web19w1':e, 'SD19w1':f}\n",
    "\n",
    "h_hist = plt.bar(list(dictionary.keys()), dictionary.values(), color='r')\n",
    "plt.title('Absence in each ''Klasse'' >= 75%', pad=10)\n",
    "plt.xlabel('Klasse', labelpad=20)\n",
    "plt.ylabel('No. of students', labelpad=20)\n",
    "plt.xticks(range(6))\n",
    "plt.yticks(range(15))\n",
    "plt.show()"
   ]
  },
  {
   "cell_type": "markdown",
   "metadata": {},
   "source": [
    "#### Absence per Fag"
   ]
  },
  {
   "cell_type": "code",
   "execution_count": 20,
   "metadata": {},
   "outputs": [],
   "source": [
    "# \n",
    "a = ((df['Samlet_fravaer'] >= 75) & (df['Fag'] == 'Web and Soft Electives')).sum()\n",
    "\n",
    "# SD18i\n",
    "b = ((df['Samlet_fravaer'] >= 75) & (df['Fag'] == 'SD18i')).sum()\n",
    "\n",
    "# SD19w1\n",
    "c = ((df['Samlet_fravaer'] >= 75) & (df['Fag'] == 'SD19w1')).sum()\n",
    "\n",
    "# ITS18a\n",
    "d = ((df['Samlet_fravaer'] >= 75) & (df['Fag'] == 'ITS18a')).sum()\n",
    "\n",
    "# Web19w1\n",
    "e = ((df['Samlet_fravaer'] >= 75) & (df['Fag'] == 'Web19w1')).sum()\n",
    "\n",
    "# ITS19w1\n",
    "f = ((df['Samlet_fravaer'] >= 75) & (df['Fag'] == 'SD19w1')).sum()"
   ]
  },
  {
   "cell_type": "code",
   "execution_count": null,
   "metadata": {},
   "outputs": [],
   "source": []
  },
  {
   "cell_type": "code",
   "execution_count": null,
   "metadata": {},
   "outputs": [],
   "source": []
  },
  {
   "cell_type": "code",
   "execution_count": null,
   "metadata": {},
   "outputs": [],
   "source": []
  },
  {
   "cell_type": "code",
   "execution_count": null,
   "metadata": {},
   "outputs": [],
   "source": []
  },
  {
   "cell_type": "markdown",
   "metadata": {},
   "source": [
    "## Dropping students with absence above 75%"
   ]
  },
  {
   "cell_type": "code",
   "execution_count": 21,
   "metadata": {
    "scrolled": true
   },
   "outputs": [
    {
     "data": {
      "text/html": [
       "<div>\n",
       "<style scoped>\n",
       "    .dataframe tbody tr th:only-of-type {\n",
       "        vertical-align: middle;\n",
       "    }\n",
       "\n",
       "    .dataframe tbody tr th {\n",
       "        vertical-align: top;\n",
       "    }\n",
       "\n",
       "    .dataframe thead th {\n",
       "        text-align: right;\n",
       "    }\n",
       "</style>\n",
       "<table border=\"1\" class=\"dataframe\">\n",
       "  <thead>\n",
       "    <tr style=\"text-align: right;\">\n",
       "      <th></th>\n",
       "      <th>Id</th>\n",
       "      <th>Samlet_fravaer</th>\n",
       "      <th>Klasse</th>\n",
       "      <th>Fag</th>\n",
       "      <th>Fravaer</th>\n",
       "      <th>Fag_1</th>\n",
       "      <th>Fravaer_1</th>\n",
       "      <th>Fag_2</th>\n",
       "      <th>Fravaer_2</th>\n",
       "      <th>Fag_3</th>\n",
       "      <th>Fravaer_3</th>\n",
       "    </tr>\n",
       "  </thead>\n",
       "  <tbody>\n",
       "    <tr>\n",
       "      <th>36</th>\n",
       "      <td>635774</td>\n",
       "      <td>72.4</td>\n",
       "      <td>SD18i</td>\n",
       "      <td>DLS</td>\n",
       "      <td>72.4</td>\n",
       "      <td>System Integration</td>\n",
       "      <td>100.0</td>\n",
       "      <td>Data Science</td>\n",
       "      <td>75.00</td>\n",
       "      <td></td>\n",
       "      <td>NaN</td>\n",
       "    </tr>\n",
       "    <tr>\n",
       "      <th>37</th>\n",
       "      <td>646053</td>\n",
       "      <td>72.1</td>\n",
       "      <td>SD18i</td>\n",
       "      <td>DLS</td>\n",
       "      <td>72.1</td>\n",
       "      <td>System Integration</td>\n",
       "      <td>0.0</td>\n",
       "      <td>Big Data</td>\n",
       "      <td>81.82</td>\n",
       "      <td></td>\n",
       "      <td>NaN</td>\n",
       "    </tr>\n",
       "    <tr>\n",
       "      <th>38</th>\n",
       "      <td>879390</td>\n",
       "      <td>71.3</td>\n",
       "      <td>ITS19w1</td>\n",
       "      <td>Intro til IT Sikkerhed</td>\n",
       "      <td>71.3</td>\n",
       "      <td>Net. and Com. security</td>\n",
       "      <td>75.0</td>\n",
       "      <td>System Security</td>\n",
       "      <td>88.89</td>\n",
       "      <td></td>\n",
       "      <td>NaN</td>\n",
       "    </tr>\n",
       "    <tr>\n",
       "      <th>39</th>\n",
       "      <td>666991</td>\n",
       "      <td>71.2</td>\n",
       "      <td>Web and Soft Electives</td>\n",
       "      <td>Big Data</td>\n",
       "      <td>71.2</td>\n",
       "      <td>Databases</td>\n",
       "      <td>50.0</td>\n",
       "      <td>Test</td>\n",
       "      <td>100.00</td>\n",
       "      <td></td>\n",
       "      <td>NaN</td>\n",
       "    </tr>\n",
       "    <tr>\n",
       "      <th>40</th>\n",
       "      <td>397345</td>\n",
       "      <td>70.1</td>\n",
       "      <td>ITS19w1</td>\n",
       "      <td>Intro til IT Sikkerhed</td>\n",
       "      <td>70.1</td>\n",
       "      <td>Net. and Com. security</td>\n",
       "      <td>100.0</td>\n",
       "      <td>System Security</td>\n",
       "      <td>55.56</td>\n",
       "      <td></td>\n",
       "      <td>NaN</td>\n",
       "    </tr>\n",
       "  </tbody>\n",
       "</table>\n",
       "</div>"
      ],
      "text/plain": [
       "        Id  Samlet_fravaer                  Klasse                     Fag  \\\n",
       "36  635774            72.4                   SD18i                     DLS   \n",
       "37  646053            72.1                   SD18i                     DLS   \n",
       "38  879390            71.3                 ITS19w1  Intro til IT Sikkerhed   \n",
       "39  666991            71.2  Web and Soft Electives                Big Data   \n",
       "40  397345            70.1                 ITS19w1  Intro til IT Sikkerhed   \n",
       "\n",
       "    Fravaer                   Fag_1  Fravaer_1            Fag_2  Fravaer_2  \\\n",
       "36     72.4      System Integration      100.0     Data Science      75.00   \n",
       "37     72.1      System Integration        0.0         Big Data      81.82   \n",
       "38     71.3  Net. and Com. security       75.0  System Security      88.89   \n",
       "39     71.2               Databases       50.0             Test     100.00   \n",
       "40     70.1  Net. and Com. security      100.0  System Security      55.56   \n",
       "\n",
       "   Fag_3  Fravaer_3  \n",
       "36              NaN  \n",
       "37              NaN  \n",
       "38              NaN  \n",
       "39              NaN  \n",
       "40              NaN  "
      ]
     },
     "execution_count": 21,
     "metadata": {},
     "output_type": "execute_result"
    }
   ],
   "source": [
    "for index, row in df.iterrows():\n",
    "    value = row[\"Samlet_fravaer\"]\n",
    "    if value >= 75:\n",
    "        df.drop(index, inplace=True)\n",
    "df.head()"
   ]
  },
  {
   "cell_type": "code",
   "execution_count": null,
   "metadata": {},
   "outputs": [],
   "source": []
  },
  {
   "cell_type": "code",
   "execution_count": null,
   "metadata": {},
   "outputs": [],
   "source": []
  },
  {
   "cell_type": "code",
   "execution_count": null,
   "metadata": {},
   "outputs": [],
   "source": []
  },
  {
   "cell_type": "code",
   "execution_count": null,
   "metadata": {},
   "outputs": [],
   "source": []
  },
  {
   "cell_type": "code",
   "execution_count": 22,
   "metadata": {},
   "outputs": [],
   "source": [
    "#encoding 'Klasse'\n",
    "from sklearn.preprocessing import LabelEncoder, OneHotEncoder\n",
    "\n",
    "labelencoder = LabelEncoder()\n",
    "#f2['Klasse'] = labelencoder.fit_transform(df2['Klasse'])\n",
    "\n",
    "#df2['Fag'].astype('category')\n",
    "#df2['Fag'] = labelencoder.fit_transform(df2['Fag'])\n",
    "#df2.head()\n",
    "#encoding to one hot vector:\n",
    "#onehotencoder = OneHotEncoder([2])\n"
   ]
  },
  {
   "cell_type": "code",
   "execution_count": null,
   "metadata": {},
   "outputs": [],
   "source": []
  },
  {
   "cell_type": "code",
   "execution_count": null,
   "metadata": {},
   "outputs": [],
   "source": []
  },
  {
   "cell_type": "markdown",
   "metadata": {},
   "source": [
    "## Reducing number of columns in dataframe, referencing 'Fag'\n",
    "\n",
    "- shaping new dataframe as 'df2'"
   ]
  },
  {
   "cell_type": "code",
   "execution_count": 23,
   "metadata": {
    "scrolled": true
   },
   "outputs": [
    {
     "name": "stderr",
     "output_type": "stream",
     "text": [
      "/home/quenar/anaconda3/lib/python3.7/site-packages/pandas/core/frame.py:3781: SettingWithCopyWarning: \n",
      "A value is trying to be set on a copy of a slice from a DataFrame\n",
      "\n",
      "See the caveats in the documentation: http://pandas.pydata.org/pandas-docs/stable/indexing.html#indexing-view-versus-copy\n",
      "  return super(DataFrame, self).rename(**kwargs)\n"
     ]
    },
    {
     "data": {
      "text/html": [
       "<div>\n",
       "<style scoped>\n",
       "    .dataframe tbody tr th:only-of-type {\n",
       "        vertical-align: middle;\n",
       "    }\n",
       "\n",
       "    .dataframe tbody tr th {\n",
       "        vertical-align: top;\n",
       "    }\n",
       "\n",
       "    .dataframe thead th {\n",
       "        text-align: right;\n",
       "    }\n",
       "</style>\n",
       "<table border=\"1\" class=\"dataframe\">\n",
       "  <thead>\n",
       "    <tr style=\"text-align: right;\">\n",
       "      <th></th>\n",
       "      <th>Id</th>\n",
       "      <th>Samlet_fravaer</th>\n",
       "      <th>Klasse</th>\n",
       "      <th>Fag</th>\n",
       "      <th>Fravaer</th>\n",
       "    </tr>\n",
       "  </thead>\n",
       "  <tbody>\n",
       "    <tr>\n",
       "      <th>36</th>\n",
       "      <td>635774</td>\n",
       "      <td>72.4</td>\n",
       "      <td>SD18i</td>\n",
       "      <td>DLS</td>\n",
       "      <td>72.4</td>\n",
       "    </tr>\n",
       "    <tr>\n",
       "      <th>37</th>\n",
       "      <td>646053</td>\n",
       "      <td>72.1</td>\n",
       "      <td>SD18i</td>\n",
       "      <td>DLS</td>\n",
       "      <td>72.1</td>\n",
       "    </tr>\n",
       "    <tr>\n",
       "      <th>38</th>\n",
       "      <td>879390</td>\n",
       "      <td>71.3</td>\n",
       "      <td>ITS19w1</td>\n",
       "      <td>Intro til IT Sikkerhed</td>\n",
       "      <td>71.3</td>\n",
       "    </tr>\n",
       "    <tr>\n",
       "      <th>39</th>\n",
       "      <td>666991</td>\n",
       "      <td>71.2</td>\n",
       "      <td>Web and Soft Electives</td>\n",
       "      <td>Big Data</td>\n",
       "      <td>71.2</td>\n",
       "    </tr>\n",
       "    <tr>\n",
       "      <th>40</th>\n",
       "      <td>397345</td>\n",
       "      <td>70.1</td>\n",
       "      <td>ITS19w1</td>\n",
       "      <td>Intro til IT Sikkerhed</td>\n",
       "      <td>70.1</td>\n",
       "    </tr>\n",
       "  </tbody>\n",
       "</table>\n",
       "</div>"
      ],
      "text/plain": [
       "        Id  Samlet_fravaer                  Klasse                     Fag  \\\n",
       "36  635774            72.4                   SD18i                     DLS   \n",
       "37  646053            72.1                   SD18i                     DLS   \n",
       "38  879390            71.3                 ITS19w1  Intro til IT Sikkerhed   \n",
       "39  666991            71.2  Web and Soft Electives                Big Data   \n",
       "40  397345            70.1                 ITS19w1  Intro til IT Sikkerhed   \n",
       "\n",
       "    Fravaer  \n",
       "36     72.4  \n",
       "37     72.1  \n",
       "38     71.3  \n",
       "39     71.2  \n",
       "40     70.1  "
      ]
     },
     "execution_count": 23,
     "metadata": {},
     "output_type": "execute_result"
    }
   ],
   "source": [
    "df2 = pd.DataFrame(columns=['Id', 'Samlet_fravaer', 'Klasse', 'Fag', 'Fravaer'])\n",
    "\n",
    "# Iterating over 'df' and copying appropriate data to target cells of 'df2'\n",
    "\n",
    "A = df.iloc[:, 0:5]\n",
    "B = df.iloc[:, [0, 1, 2, 5, 6]]\n",
    "C = df.iloc[:, [0, 1, 2, 7, 8]]\n",
    "D = df.iloc[:, [0, 1, 2, 9, 10]]\n",
    "\n",
    "#changing column names so they match across A-D\n",
    "B.rename(columns={\"Fag_1\":\"Fag\", \"Fravaer_1\":\"Fravaer\"}, inplace = True)\n",
    "C.rename(columns={\"Fag_2\":\"Fag\", \"Fravaer_2\":\"Fravaer\"}, inplace = True)\n",
    "D.rename(columns={\"Fag_3\":\"Fag\", \"Fravaer_3\":\"Fravaer\"}, inplace = True)\n",
    "\n",
    "#concatinating Dataframe in One\n",
    "frames=[A, B, C, D]\n",
    "df2 = pd.concat(frames, sort=False)\n",
    "df2.head()"
   ]
  },
  {
   "cell_type": "code",
   "execution_count": 24,
   "metadata": {},
   "outputs": [
    {
     "name": "stdout",
     "output_type": "stream",
     "text": [
      "                               165\n",
      "Databases                       85\n",
      "Test                            57\n",
      "Web Security                    42\n",
      "Angular                         37\n",
      "Data Science                    33\n",
      "Interface Design                28\n",
      "Web Development                 28\n",
      "DLS                             26\n",
      "System Integration              25\n",
      "IT Governance 2                 23\n",
      "Security Engineering            23\n",
      "Reverse Eng. Malware            23\n",
      "Security for mobile devices     23\n",
      "Software Design Patterns        18\n",
      "Net. and Com. security          17\n",
      "Intro til IT Sikkerhed          17\n",
      "System Security                 17\n",
      "Quantum Computing               16\n",
      "Big Data                        11\n",
      "Name: Fag, dtype: int64\n"
     ]
    }
   ],
   "source": [
    "f = df2['Fag'].value_counts()\n",
    "fag = f.index.tolist()\n",
    "print(f)"
   ]
  },
  {
   "cell_type": "code",
   "execution_count": 25,
   "metadata": {},
   "outputs": [],
   "source": [
    "#dealing with NaN values in 'fravaer' columns\n",
    "df2['Samlet_fravaer'].fillna( -1,inplace=True)\n",
    "df2['Fravaer'].fillna( -1, inplace=True)"
   ]
  },
  {
   "cell_type": "code",
   "execution_count": 26,
   "metadata": {
    "scrolled": true
   },
   "outputs": [
    {
     "data": {
      "text/html": [
       "<div>\n",
       "<style scoped>\n",
       "    .dataframe tbody tr th:only-of-type {\n",
       "        vertical-align: middle;\n",
       "    }\n",
       "\n",
       "    .dataframe tbody tr th {\n",
       "        vertical-align: top;\n",
       "    }\n",
       "\n",
       "    .dataframe thead th {\n",
       "        text-align: right;\n",
       "    }\n",
       "</style>\n",
       "<table border=\"1\" class=\"dataframe\">\n",
       "  <thead>\n",
       "    <tr style=\"text-align: right;\">\n",
       "      <th></th>\n",
       "      <th>Samlet_fravaer</th>\n",
       "      <th>Fravaer</th>\n",
       "    </tr>\n",
       "  </thead>\n",
       "  <tbody>\n",
       "    <tr>\n",
       "      <th>36</th>\n",
       "      <td>72.4</td>\n",
       "      <td>72.4</td>\n",
       "    </tr>\n",
       "    <tr>\n",
       "      <th>37</th>\n",
       "      <td>72.1</td>\n",
       "      <td>72.1</td>\n",
       "    </tr>\n",
       "    <tr>\n",
       "      <th>38</th>\n",
       "      <td>71.3</td>\n",
       "      <td>71.3</td>\n",
       "    </tr>\n",
       "    <tr>\n",
       "      <th>39</th>\n",
       "      <td>71.2</td>\n",
       "      <td>71.2</td>\n",
       "    </tr>\n",
       "    <tr>\n",
       "      <th>40</th>\n",
       "      <td>70.1</td>\n",
       "      <td>70.1</td>\n",
       "    </tr>\n",
       "  </tbody>\n",
       "</table>\n",
       "</div>"
      ],
      "text/plain": [
       "    Samlet_fravaer  Fravaer\n",
       "36            72.4     72.4\n",
       "37            72.1     72.1\n",
       "38            71.3     71.3\n",
       "39            71.2     71.2\n",
       "40            70.1     70.1"
      ]
     },
     "execution_count": 26,
     "metadata": {},
     "output_type": "execute_result"
    }
   ],
   "source": [
    "#selecting data for K-Means\n",
    "X = df2.iloc[:, [1,4]]\n",
    "X.head()"
   ]
  },
  {
   "cell_type": "code",
   "execution_count": null,
   "metadata": {},
   "outputs": [],
   "source": []
  },
  {
   "cell_type": "code",
   "execution_count": 27,
   "metadata": {},
   "outputs": [
    {
     "data": {
      "image/png": "[encoded data removed]",
      "text/plain": [
       "<Figure size 432x288 with 1 Axes>"
      ]
     },
     "metadata": {
      "needs_background": "light"
     },
     "output_type": "display_data"
    }
   ],
   "source": [
    "# DF Id and Samlet_Fravaer\n",
    "\n",
    "x_min = X.iloc[:, 0].min()\n",
    "x_max = X.iloc[:, 0].max()\n",
    "\n",
    "y_min = X.iloc[:, 1].min()\n",
    "y_max = X.iloc[:, 1].max()\n",
    "\n",
    "# set plot limits\n",
    "# Plot input data\n",
    "#creates figure\n",
    "plt.figure()\n",
    "plt.title('Id_Samlet_Fravaer')\n",
    "plt.xlim(x_min - 1, x_max + 1)\n",
    "plt.ylim(y_min - 1, y_max + 1)\n",
    "# plot the points\n",
    "plt.scatter(X.iloc[:,0], X.iloc[:,1], marker='o', facecolors='none', edgecolors='black', s=30)\n",
    "plt.show()"
   ]
  },
  {
   "cell_type": "code",
   "execution_count": 28,
   "metadata": {},
   "outputs": [
    {
     "data": {
      "image/png": "[encoded data removed]",
      "text/plain": [
       "<Figure size 432x288 with 1 Axes>"
      ]
     },
     "metadata": {
      "needs_background": "light"
     },
     "output_type": "display_data"
    }
   ],
   "source": [
    "# DF Fravaer and Fravaer_1\n",
    "x_min = df.iloc[:, 4].min()\n",
    "x_max = df.iloc[:, 4].max()\n",
    "\n",
    "y_min = df.iloc[:, 6].min()\n",
    "y_max = df.iloc[:, 6].max()\n",
    "\n",
    "# set plot limits\n",
    "# Plot input data\n",
    "#creates figure\n",
    "plt.figure()\n",
    "plt.title('fravaer_fravaer_1')\n",
    "plt.xlim(x_min - 1, x_max + 1)\n",
    "plt.ylim(y_min - 1, y_max + 1)\n",
    "# plot the points\n",
    "plt.scatter(df.iloc[:,4], df.iloc[:,6], marker='o', facecolors='none', edgecolors='black', s=30)\n",
    "plt.show()"
   ]
  },
  {
   "cell_type": "code",
   "execution_count": 29,
   "metadata": {},
   "outputs": [
    {
     "data": {
      "image/png": "[encoded data removed]",
      "text/plain": [
       "<Figure size 432x288 with 1 Axes>"
      ]
     },
     "metadata": {
      "needs_background": "light"
     },
     "output_type": "display_data"
    }
   ],
   "source": [
    "# DF Fravaer_1 and Fravaer_2\n",
    "x_min = df.iloc[:, 6].min()\n",
    "x_max = df.iloc[:, 6].max()\n",
    "\n",
    "y_min = df.iloc[:, 8].min()\n",
    "y_max = df.iloc[:, 8].max()\n",
    "\n",
    "# set plot limits\n",
    "# Plot input data\n",
    "#creates figure\n",
    "plt.figure()\n",
    "plt.title('fravaer_1_fravaer_2')\n",
    "plt.xlim(x_min - 1, x_max + 1)\n",
    "plt.ylim(y_min - 1, y_max + 1)\n",
    "# plot the points\n",
    "plt.scatter(df.iloc[:,4], df.iloc[:,6], marker='o', facecolors='none', edgecolors='black', s=30)\n",
    "plt.show()"
   ]
  },
  {
   "cell_type": "code",
   "execution_count": 30,
   "metadata": {},
   "outputs": [
    {
     "data": {
      "text/html": [
       "<div>\n",
       "<style scoped>\n",
       "    .dataframe tbody tr th:only-of-type {\n",
       "        vertical-align: middle;\n",
       "    }\n",
       "\n",
       "    .dataframe tbody tr th {\n",
       "        vertical-align: top;\n",
       "    }\n",
       "\n",
       "    .dataframe thead th {\n",
       "        text-align: right;\n",
       "    }\n",
       "</style>\n",
       "<table border=\"1\" class=\"dataframe\">\n",
       "  <thead>\n",
       "    <tr style=\"text-align: right;\">\n",
       "      <th></th>\n",
       "      <th>Id</th>\n",
       "      <th>Samlet_fravaer</th>\n",
       "      <th>Klasse</th>\n",
       "      <th>Fag</th>\n",
       "      <th>Fravaer</th>\n",
       "      <th>Fag_1</th>\n",
       "      <th>Fravaer_1</th>\n",
       "      <th>Fag_2</th>\n",
       "      <th>Fravaer_2</th>\n",
       "      <th>Fag_3</th>\n",
       "      <th>Fravaer_3</th>\n",
       "    </tr>\n",
       "  </thead>\n",
       "  <tbody>\n",
       "    <tr>\n",
       "      <th>36</th>\n",
       "      <td>635774</td>\n",
       "      <td>72.4</td>\n",
       "      <td>SD18i</td>\n",
       "      <td>DLS</td>\n",
       "      <td>72.4</td>\n",
       "      <td>System Integration</td>\n",
       "      <td>100.0</td>\n",
       "      <td>Data Science</td>\n",
       "      <td>75.00</td>\n",
       "      <td></td>\n",
       "      <td>NaN</td>\n",
       "    </tr>\n",
       "    <tr>\n",
       "      <th>37</th>\n",
       "      <td>646053</td>\n",
       "      <td>72.1</td>\n",
       "      <td>SD18i</td>\n",
       "      <td>DLS</td>\n",
       "      <td>72.1</td>\n",
       "      <td>System Integration</td>\n",
       "      <td>0.0</td>\n",
       "      <td>Big Data</td>\n",
       "      <td>81.82</td>\n",
       "      <td></td>\n",
       "      <td>NaN</td>\n",
       "    </tr>\n",
       "  </tbody>\n",
       "</table>\n",
       "</div>"
      ],
      "text/plain": [
       "        Id  Samlet_fravaer Klasse  Fag  Fravaer               Fag_1  \\\n",
       "36  635774            72.4  SD18i  DLS     72.4  System Integration   \n",
       "37  646053            72.1  SD18i  DLS     72.1  System Integration   \n",
       "\n",
       "    Fravaer_1         Fag_2  Fravaer_2 Fag_3  Fravaer_3  \n",
       "36      100.0  Data Science      75.00              NaN  \n",
       "37        0.0      Big Data      81.82              NaN  "
      ]
     },
     "execution_count": 30,
     "metadata": {},
     "output_type": "execute_result"
    }
   ],
   "source": [
    "df.head(2)"
   ]
  },
  {
   "cell_type": "code",
   "execution_count": 31,
   "metadata": {},
   "outputs": [
    {
     "data": {
      "image/png": "[encoded data removed]",
      "text/plain": [
       "<Figure size 432x288 with 1 Axes>"
      ]
     },
     "metadata": {
      "needs_background": "light"
     },
     "output_type": "display_data"
    }
   ],
   "source": [
    "# fravaer_2 and fravaer_3\n",
    "\n",
    "x_min = df.iloc[:, 8].min()\n",
    "x_max = df.iloc[:, 8].max()\n",
    "\n",
    "y_min = df.iloc[:, 10].min()\n",
    "y_max = df.iloc[:, 10].max()\n",
    "\n",
    "# set plot limits\n",
    "# Plot input data\n",
    "#creates figure\n",
    "plt.figure()\n",
    "plt.title('fravaer_2_fravaer_3')\n",
    "plt.xlim(x_min - 1, x_max + 1)\n",
    "plt.ylim(y_min - 1, y_max + 1)\n",
    "# plot the points\n",
    "plt.scatter(df.iloc[:,8], df.iloc[:,10], marker='o', facecolors='none', edgecolors='black', s=30)\n",
    "plt.show()"
   ]
  },
  {
   "cell_type": "code",
   "execution_count": null,
   "metadata": {},
   "outputs": [],
   "source": []
  },
  {
   "cell_type": "code",
   "execution_count": null,
   "metadata": {},
   "outputs": [],
   "source": []
  },
  {
   "cell_type": "markdown",
   "metadata": {},
   "source": [
    "### Kmeans on 'df'"
   ]
  },
  {
   "cell_type": "code",
   "execution_count": 32,
   "metadata": {},
   "outputs": [
    {
     "data": {
      "text/html": [
       "<div>\n",
       "<style scoped>\n",
       "    .dataframe tbody tr th:only-of-type {\n",
       "        vertical-align: middle;\n",
       "    }\n",
       "\n",
       "    .dataframe tbody tr th {\n",
       "        vertical-align: top;\n",
       "    }\n",
       "\n",
       "    .dataframe thead th {\n",
       "        text-align: right;\n",
       "    }\n",
       "</style>\n",
       "<table border=\"1\" class=\"dataframe\">\n",
       "  <thead>\n",
       "    <tr style=\"text-align: right;\">\n",
       "      <th></th>\n",
       "      <th>Id</th>\n",
       "      <th>Samlet_fravaer</th>\n",
       "      <th>Klasse</th>\n",
       "      <th>Fag</th>\n",
       "      <th>Fravaer</th>\n",
       "      <th>Fag_1</th>\n",
       "      <th>Fravaer_1</th>\n",
       "      <th>Fag_2</th>\n",
       "      <th>Fravaer_2</th>\n",
       "      <th>Fag_3</th>\n",
       "      <th>Fravaer_3</th>\n",
       "    </tr>\n",
       "  </thead>\n",
       "  <tbody>\n",
       "    <tr>\n",
       "      <th>0</th>\n",
       "      <td>635774</td>\n",
       "      <td>72.4</td>\n",
       "      <td>SD18i</td>\n",
       "      <td>DLS</td>\n",
       "      <td>72.4</td>\n",
       "      <td>System Integration</td>\n",
       "      <td>100.0</td>\n",
       "      <td>Data Science</td>\n",
       "      <td>75.00</td>\n",
       "      <td></td>\n",
       "      <td>NaN</td>\n",
       "    </tr>\n",
       "    <tr>\n",
       "      <th>1</th>\n",
       "      <td>646053</td>\n",
       "      <td>72.1</td>\n",
       "      <td>SD18i</td>\n",
       "      <td>DLS</td>\n",
       "      <td>72.1</td>\n",
       "      <td>System Integration</td>\n",
       "      <td>0.0</td>\n",
       "      <td>Big Data</td>\n",
       "      <td>81.82</td>\n",
       "      <td></td>\n",
       "      <td>NaN</td>\n",
       "    </tr>\n",
       "    <tr>\n",
       "      <th>2</th>\n",
       "      <td>879390</td>\n",
       "      <td>71.3</td>\n",
       "      <td>ITS19w1</td>\n",
       "      <td>Intro til IT Sikkerhed</td>\n",
       "      <td>71.3</td>\n",
       "      <td>Net. and Com. security</td>\n",
       "      <td>75.0</td>\n",
       "      <td>System Security</td>\n",
       "      <td>88.89</td>\n",
       "      <td></td>\n",
       "      <td>NaN</td>\n",
       "    </tr>\n",
       "    <tr>\n",
       "      <th>3</th>\n",
       "      <td>666991</td>\n",
       "      <td>71.2</td>\n",
       "      <td>Web and Soft Electives</td>\n",
       "      <td>Big Data</td>\n",
       "      <td>71.2</td>\n",
       "      <td>Databases</td>\n",
       "      <td>50.0</td>\n",
       "      <td>Test</td>\n",
       "      <td>100.00</td>\n",
       "      <td></td>\n",
       "      <td>NaN</td>\n",
       "    </tr>\n",
       "    <tr>\n",
       "      <th>4</th>\n",
       "      <td>397345</td>\n",
       "      <td>70.1</td>\n",
       "      <td>ITS19w1</td>\n",
       "      <td>Intro til IT Sikkerhed</td>\n",
       "      <td>70.1</td>\n",
       "      <td>Net. and Com. security</td>\n",
       "      <td>100.0</td>\n",
       "      <td>System Security</td>\n",
       "      <td>55.56</td>\n",
       "      <td></td>\n",
       "      <td>NaN</td>\n",
       "    </tr>\n",
       "  </tbody>\n",
       "</table>\n",
       "</div>"
      ],
      "text/plain": [
       "       Id  Samlet_fravaer                  Klasse                     Fag  \\\n",
       "0  635774            72.4                   SD18i                     DLS   \n",
       "1  646053            72.1                   SD18i                     DLS   \n",
       "2  879390            71.3                 ITS19w1  Intro til IT Sikkerhed   \n",
       "3  666991            71.2  Web and Soft Electives                Big Data   \n",
       "4  397345            70.1                 ITS19w1  Intro til IT Sikkerhed   \n",
       "\n",
       "   Fravaer                   Fag_1  Fravaer_1            Fag_2  Fravaer_2  \\\n",
       "0     72.4      System Integration      100.0     Data Science      75.00   \n",
       "1     72.1      System Integration        0.0         Big Data      81.82   \n",
       "2     71.3  Net. and Com. security       75.0  System Security      88.89   \n",
       "3     71.2               Databases       50.0             Test     100.00   \n",
       "4     70.1  Net. and Com. security      100.0  System Security      55.56   \n",
       "\n",
       "  Fag_3  Fravaer_3  \n",
       "0              NaN  \n",
       "1              NaN  \n",
       "2              NaN  \n",
       "3              NaN  \n",
       "4              NaN  "
      ]
     },
     "execution_count": 32,
     "metadata": {},
     "output_type": "execute_result"
    }
   ],
   "source": [
    "df.reset_index(drop=True, inplace=True)\n",
    "df.head()"
   ]
  },
  {
   "cell_type": "code",
   "execution_count": 33,
   "metadata": {},
   "outputs": [],
   "source": [
    "# Elbow method - Checking number of probable Centroids"
   ]
  },
  {
   "cell_type": "code",
   "execution_count": 40,
   "metadata": {},
   "outputs": [
    {
     "data": {
      "text/html": [
       "<div>\n",
       "<style scoped>\n",
       "    .dataframe tbody tr th:only-of-type {\n",
       "        vertical-align: middle;\n",
       "    }\n",
       "\n",
       "    .dataframe tbody tr th {\n",
       "        vertical-align: top;\n",
       "    }\n",
       "\n",
       "    .dataframe thead th {\n",
       "        text-align: right;\n",
       "    }\n",
       "</style>\n",
       "<table border=\"1\" class=\"dataframe\">\n",
       "  <thead>\n",
       "    <tr style=\"text-align: right;\">\n",
       "      <th></th>\n",
       "      <th>Id</th>\n",
       "      <th>Samlet_fravaer</th>\n",
       "      <th>Klasse</th>\n",
       "      <th>Fag</th>\n",
       "      <th>Fravaer</th>\n",
       "      <th>Fag_1</th>\n",
       "      <th>Fravaer_1</th>\n",
       "      <th>Fag_2</th>\n",
       "      <th>Fravaer_2</th>\n",
       "      <th>Fag_3</th>\n",
       "      <th>Fravaer_3</th>\n",
       "    </tr>\n",
       "  </thead>\n",
       "  <tbody>\n",
       "    <tr>\n",
       "      <th>0</th>\n",
       "      <td>635774</td>\n",
       "      <td>72.4</td>\n",
       "      <td>SD18i</td>\n",
       "      <td>DLS</td>\n",
       "      <td>72.4</td>\n",
       "      <td>System Integration</td>\n",
       "      <td>100.0</td>\n",
       "      <td>Data Science</td>\n",
       "      <td>75.00</td>\n",
       "      <td></td>\n",
       "      <td>-1.0</td>\n",
       "    </tr>\n",
       "    <tr>\n",
       "      <th>1</th>\n",
       "      <td>646053</td>\n",
       "      <td>72.1</td>\n",
       "      <td>SD18i</td>\n",
       "      <td>DLS</td>\n",
       "      <td>72.1</td>\n",
       "      <td>System Integration</td>\n",
       "      <td>0.0</td>\n",
       "      <td>Big Data</td>\n",
       "      <td>81.82</td>\n",
       "      <td></td>\n",
       "      <td>-1.0</td>\n",
       "    </tr>\n",
       "    <tr>\n",
       "      <th>2</th>\n",
       "      <td>879390</td>\n",
       "      <td>71.3</td>\n",
       "      <td>ITS19w1</td>\n",
       "      <td>Intro til IT Sikkerhed</td>\n",
       "      <td>71.3</td>\n",
       "      <td>Net. and Com. security</td>\n",
       "      <td>75.0</td>\n",
       "      <td>System Security</td>\n",
       "      <td>88.89</td>\n",
       "      <td></td>\n",
       "      <td>-1.0</td>\n",
       "    </tr>\n",
       "    <tr>\n",
       "      <th>3</th>\n",
       "      <td>666991</td>\n",
       "      <td>71.2</td>\n",
       "      <td>Web and Soft Electives</td>\n",
       "      <td>Big Data</td>\n",
       "      <td>71.2</td>\n",
       "      <td>Databases</td>\n",
       "      <td>50.0</td>\n",
       "      <td>Test</td>\n",
       "      <td>100.00</td>\n",
       "      <td></td>\n",
       "      <td>-1.0</td>\n",
       "    </tr>\n",
       "    <tr>\n",
       "      <th>4</th>\n",
       "      <td>397345</td>\n",
       "      <td>70.1</td>\n",
       "      <td>ITS19w1</td>\n",
       "      <td>Intro til IT Sikkerhed</td>\n",
       "      <td>70.1</td>\n",
       "      <td>Net. and Com. security</td>\n",
       "      <td>100.0</td>\n",
       "      <td>System Security</td>\n",
       "      <td>55.56</td>\n",
       "      <td></td>\n",
       "      <td>-1.0</td>\n",
       "    </tr>\n",
       "  </tbody>\n",
       "</table>\n",
       "</div>"
      ],
      "text/plain": [
       "       Id  Samlet_fravaer                  Klasse                     Fag  \\\n",
       "0  635774            72.4                   SD18i                     DLS   \n",
       "1  646053            72.1                   SD18i                     DLS   \n",
       "2  879390            71.3                 ITS19w1  Intro til IT Sikkerhed   \n",
       "3  666991            71.2  Web and Soft Electives                Big Data   \n",
       "4  397345            70.1                 ITS19w1  Intro til IT Sikkerhed   \n",
       "\n",
       "   Fravaer                   Fag_1  Fravaer_1            Fag_2  Fravaer_2  \\\n",
       "0     72.4      System Integration      100.0     Data Science      75.00   \n",
       "1     72.1      System Integration        0.0         Big Data      81.82   \n",
       "2     71.3  Net. and Com. security       75.0  System Security      88.89   \n",
       "3     71.2               Databases       50.0             Test     100.00   \n",
       "4     70.1  Net. and Com. security      100.0  System Security      55.56   \n",
       "\n",
       "  Fag_3  Fravaer_3  \n",
       "0             -1.0  \n",
       "1             -1.0  \n",
       "2             -1.0  \n",
       "3             -1.0  \n",
       "4             -1.0  "
      ]
     },
     "execution_count": 40,
     "metadata": {},
     "output_type": "execute_result"
    }
   ],
   "source": [
    "\n",
    "#dealing with NaN values in 'fravaer' columns\n",
    "df['Samlet_fravaer'].fillna( -1,inplace=True)\n",
    "df['Fravaer'].fillna( -1, inplace=True)\n",
    "df['Fravaer_1'].fillna( -1, inplace=True)\n",
    "df['Fravaer_2'].fillna( -1, inplace=True)\n",
    "df['Fravaer_3'].fillna( -1, inplace=True)\n",
    "\n",
    "student = df['Id'].values\n",
    "f = df['Fravaer'].values\n",
    "f1 = df['Fravaer_1'].values\n",
    "f2 = df['Fravaer_2'].values\n",
    "f3 = df['Fravaer_3'].values\n",
    "\n",
    "#df['Fravaer'].dropna(how='any')\n",
    "#df['Fravaer_1'].dropna(how='any')\n",
    "#df['Fravaer_2'].dropna(how='any')\n",
    "#df['Fravaer_3'].dropna(how='any')\n",
    "\n",
    "X = df.iloc[:,[4, 6, 8,10]].values\n",
    "df.head()\n"
   ]
  },
  {
   "cell_type": "code",
   "execution_count": 61,
   "metadata": {
    "scrolled": true
   },
   "outputs": [
    {
     "data": {
      "image/png": "[encoded data removed]",
      "text/plain": [
       "<Figure size 432x288 with 1 Axes>"
      ]
     },
     "metadata": {
      "needs_background": "light"
     },
     "output_type": "display_data"
    }
   ],
   "source": [
    "\n",
    "wcss = []\n",
    "for i in range(1,11):\n",
    "    kmeans = KMeans(n_clusters = i, init = 'random',\n",
    "                    max_iter = 300, n_init = 10,\n",
    "                   random_state = 0)\n",
    "    kmeans.fit(X)\n",
    "    wcss.append(kmeans.inertia_)\n",
    "plt.plot(range(1,11), wcss)\n",
    "plt.title('Fravaer, Fraaer_1 Fravaer_2 + Fravaer_3')\n",
    "plt.xlabel('Number of clusters')\n",
    "plt.ylabel('WCSS')\n",
    "plt.show()"
   ]
  },
  {
   "cell_type": "code",
   "execution_count": 62,
   "metadata": {},
   "outputs": [],
   "source": [
    "kmeans = KMeans(n_clusters=2, init='random', max_iter=300, n_init=10, random_state=0)\n",
    "y_kmeans = kmeans.fit_predict(X)"
   ]
  },
  {
   "cell_type": "code",
   "execution_count": 63,
   "metadata": {
    "scrolled": false
   },
   "outputs": [
    {
     "data": {
      "image/png": "[encoded data removed]",
      "text/plain": [
       "<Figure size 432x288 with 1 Axes>"
      ]
     },
     "metadata": {
      "needs_background": "light"
     },
     "output_type": "display_data"
    }
   ],
   "source": [
    "plt.title('Fravaer, Fraaer_1 Fravaer_2 + Fravaer_3')\n",
    "plt.scatter(X[y_kmeans == 0, 0], X[y_kmeans == 0,1], s = 100, c='red', label = 'Cluster_1')\n",
    "plt.scatter(X[y_kmeans == 1, 0], X[y_kmeans == 1,1], s = 100, c='blue', label = 'Cluster_2')\n",
    "#plt.scatter(X[y_kmeans == 2, 0], X[y_kmeans == 2,1], s = 100, c='green', label = 'Cluster_2')\n",
    "#plt.scatter(X[y_kmeans == 3, 0], X[y_kmeans == 3,1], s = 100, c='yellow', label = 'Cluster_2')\n",
    "\n",
    "plt.legend()\n",
    "plt.show()"
   ]
  },
  {
   "cell_type": "markdown",
   "metadata": {},
   "source": [
    "### Samlet_Fravaer and Fravaer"
   ]
  },
  {
   "cell_type": "code",
   "execution_count": 67,
   "metadata": {},
   "outputs": [
    {
     "data": {
      "text/html": [
       "<div>\n",
       "<style scoped>\n",
       "    .dataframe tbody tr th:only-of-type {\n",
       "        vertical-align: middle;\n",
       "    }\n",
       "\n",
       "    .dataframe tbody tr th {\n",
       "        vertical-align: top;\n",
       "    }\n",
       "\n",
       "    .dataframe thead th {\n",
       "        text-align: right;\n",
       "    }\n",
       "</style>\n",
       "<table border=\"1\" class=\"dataframe\">\n",
       "  <thead>\n",
       "    <tr style=\"text-align: right;\">\n",
       "      <th></th>\n",
       "      <th>Id</th>\n",
       "      <th>Samlet_fravaer</th>\n",
       "      <th>Klasse</th>\n",
       "      <th>Fag</th>\n",
       "      <th>Fravaer</th>\n",
       "      <th>Fag_1</th>\n",
       "      <th>Fravaer_1</th>\n",
       "      <th>Fag_2</th>\n",
       "      <th>Fravaer_2</th>\n",
       "      <th>Fag_3</th>\n",
       "      <th>Fravaer_3</th>\n",
       "    </tr>\n",
       "  </thead>\n",
       "  <tbody>\n",
       "    <tr>\n",
       "      <th>0</th>\n",
       "      <td>635774</td>\n",
       "      <td>72.4</td>\n",
       "      <td>SD18i</td>\n",
       "      <td>DLS</td>\n",
       "      <td>72.4</td>\n",
       "      <td>System Integration</td>\n",
       "      <td>100.0</td>\n",
       "      <td>Data Science</td>\n",
       "      <td>75.00</td>\n",
       "      <td></td>\n",
       "      <td>-1.0</td>\n",
       "    </tr>\n",
       "    <tr>\n",
       "      <th>1</th>\n",
       "      <td>646053</td>\n",
       "      <td>72.1</td>\n",
       "      <td>SD18i</td>\n",
       "      <td>DLS</td>\n",
       "      <td>72.1</td>\n",
       "      <td>System Integration</td>\n",
       "      <td>0.0</td>\n",
       "      <td>Big Data</td>\n",
       "      <td>81.82</td>\n",
       "      <td></td>\n",
       "      <td>-1.0</td>\n",
       "    </tr>\n",
       "    <tr>\n",
       "      <th>2</th>\n",
       "      <td>879390</td>\n",
       "      <td>71.3</td>\n",
       "      <td>ITS19w1</td>\n",
       "      <td>Intro til IT Sikkerhed</td>\n",
       "      <td>71.3</td>\n",
       "      <td>Net. and Com. security</td>\n",
       "      <td>75.0</td>\n",
       "      <td>System Security</td>\n",
       "      <td>88.89</td>\n",
       "      <td></td>\n",
       "      <td>-1.0</td>\n",
       "    </tr>\n",
       "    <tr>\n",
       "      <th>3</th>\n",
       "      <td>666991</td>\n",
       "      <td>71.2</td>\n",
       "      <td>Web and Soft Electives</td>\n",
       "      <td>Big Data</td>\n",
       "      <td>71.2</td>\n",
       "      <td>Databases</td>\n",
       "      <td>50.0</td>\n",
       "      <td>Test</td>\n",
       "      <td>100.00</td>\n",
       "      <td></td>\n",
       "      <td>-1.0</td>\n",
       "    </tr>\n",
       "    <tr>\n",
       "      <th>4</th>\n",
       "      <td>397345</td>\n",
       "      <td>70.1</td>\n",
       "      <td>ITS19w1</td>\n",
       "      <td>Intro til IT Sikkerhed</td>\n",
       "      <td>70.1</td>\n",
       "      <td>Net. and Com. security</td>\n",
       "      <td>100.0</td>\n",
       "      <td>System Security</td>\n",
       "      <td>55.56</td>\n",
       "      <td></td>\n",
       "      <td>-1.0</td>\n",
       "    </tr>\n",
       "  </tbody>\n",
       "</table>\n",
       "</div>"
      ],
      "text/plain": [
       "       Id  Samlet_fravaer                  Klasse                     Fag  \\\n",
       "0  635774            72.4                   SD18i                     DLS   \n",
       "1  646053            72.1                   SD18i                     DLS   \n",
       "2  879390            71.3                 ITS19w1  Intro til IT Sikkerhed   \n",
       "3  666991            71.2  Web and Soft Electives                Big Data   \n",
       "4  397345            70.1                 ITS19w1  Intro til IT Sikkerhed   \n",
       "\n",
       "   Fravaer                   Fag_1  Fravaer_1            Fag_2  Fravaer_2  \\\n",
       "0     72.4      System Integration      100.0     Data Science      75.00   \n",
       "1     72.1      System Integration        0.0         Big Data      81.82   \n",
       "2     71.3  Net. and Com. security       75.0  System Security      88.89   \n",
       "3     71.2               Databases       50.0             Test     100.00   \n",
       "4     70.1  Net. and Com. security      100.0  System Security      55.56   \n",
       "\n",
       "  Fag_3  Fravaer_3  \n",
       "0             -1.0  \n",
       "1             -1.0  \n",
       "2             -1.0  \n",
       "3             -1.0  \n",
       "4             -1.0  "
      ]
     },
     "execution_count": 67,
     "metadata": {},
     "output_type": "execute_result"
    }
   ],
   "source": [
    "X = df.iloc[:,[8,10]].values\n",
    "df.head()"
   ]
  },
  {
   "cell_type": "code",
   "execution_count": 68,
   "metadata": {
    "scrolled": true
   },
   "outputs": [
    {
     "data": {
      "image/png": "[encoded data removed]",
      "text/plain": [
       "<Figure size 432x288 with 1 Axes>"
      ]
     },
     "metadata": {
      "needs_background": "light"
     },
     "output_type": "display_data"
    }
   ],
   "source": [
    "\n",
    "wcss = []\n",
    "for i in range(1,11):\n",
    "    kmeans = KMeans(n_clusters = i, init = 'random',\n",
    "                    max_iter = 300, n_init = 10,\n",
    "                   random_state = 0)\n",
    "    kmeans.fit(X)\n",
    "    wcss.append(kmeans.inertia_)\n",
    "plt.plot(range(1,11), wcss)\n",
    "plt.title('The Elbow Method for Fravaer_2 + Fravaer_3')\n",
    "plt.xlabel('Number of clusters')\n",
    "plt.ylabel('WCSS')\n",
    "plt.show()"
   ]
  },
  {
   "cell_type": "code",
   "execution_count": 69,
   "metadata": {},
   "outputs": [],
   "source": [
    "kmeans = KMeans(n_clusters=2, init='random', max_iter=300, n_init=10, random_state=0)\n",
    "y_kmeans = kmeans.fit_predict(X)"
   ]
  },
  {
   "cell_type": "code",
   "execution_count": 70,
   "metadata": {
    "scrolled": false
   },
   "outputs": [
    {
     "data": {
      "text/plain": [
       "<matplotlib.collections.PathCollection at 0x7f53dedd8e80>"
      ]
     },
     "execution_count": 70,
     "metadata": {},
     "output_type": "execute_result"
    },
    {
     "data": {
      "image/png": "[encoded data removed]",
      "text/plain": [
       "<Figure size 432x288 with 1 Axes>"
      ]
     },
     "metadata": {
      "needs_background": "light"
     },
     "output_type": "display_data"
    }
   ],
   "source": [
    "plt.title('Blue:Fravaer_2 Red: Fravaer_3')\n",
    "plt.scatter(X[y_kmeans == 0, 0], X[y_kmeans == 0,1], s = 100, c='red', label = 'Cluster_1')\n",
    "plt.scatter(X[y_kmeans == 1, 0], X[y_kmeans == 1,1], s = 100, c='blue', label = 'Cluster_2')\n"
   ]
  },
  {
   "cell_type": "code",
   "execution_count": null,
   "metadata": {},
   "outputs": [],
   "source": []
  },
  {
   "cell_type": "code",
   "execution_count": null,
   "metadata": {},
   "outputs": [],
   "source": []
  },
  {
   "cell_type": "code",
   "execution_count": null,
   "metadata": {},
   "outputs": [],
   "source": []
  }
 ],
 "metadata": {
  "kernelspec": {
   "display_name": "Python 3",
   "language": "python",
   "name": "python3"
  },
  "language_info": {
   "codemirror_mode": {
    "name": "ipython",
    "version": 3
   },
   "file_extension": ".py",
   "mimetype": "text/x-python",
   "name": "python",
   "nbconvert_exporter": "python",
   "pygments_lexer": "ipython3",
   "version": "3.7.2"
  }
 },
 "nbformat": 4,
 "nbformat_minor": 2
}
